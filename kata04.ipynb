{
 "cells": [
  {
   "cell_type": "markdown",
   "source": [
    "# Ejercicio 1:\r\n"
   ],
   "metadata": {}
  },
  {
   "cell_type": "code",
   "execution_count": 4,
   "source": [
    "text = \"\"\"Interesting facts about the Moon. The Moon is Earth's only satellite. There are several interesting facts about the Moon and how it affects life here on Earth. \r\n",
    "On average, the Moon moves 4cm away from the Earth every year. This yearly drift is not significant enough to cause immediate effects on Earth. The highest daylight temperature of the Moon is 127 C.\"\"\"\r\n",
    "words = text.split('. ')\r\n",
    "keyWords = [\"average\", \"temperature\", \"distance\"]\r\n",
    "\r\n",
    "for line in words:\r\n",
    "    for keyWord in keyWords:\r\n",
    "        if keyWord in line:\r\n",
    "            print(line.replace('C', 'Celsius'))\r\n",
    "            break\r\n",
    "\r\n"
   ],
   "outputs": [
    {
     "output_type": "stream",
     "name": "stdout",
     "text": [
      "\n",
      "On average, the Moon moves 4cm away from the Earth every year\n",
      "The highest daylight temperature of the Moon is 127 Celsius.\n"
     ]
    }
   ],
   "metadata": {}
  },
  {
   "cell_type": "markdown",
   "source": [
    "# Ejercicio 2"
   ],
   "metadata": {}
  },
  {
   "cell_type": "code",
   "execution_count": 24,
   "source": [
    "name = \"Martes\"\r\n",
    "gravity = 0.00143 \r\n",
    "planet = \"Ganímides\"\r\n",
    "title= f'Data of the gravity of {name}'\r\n",
    "\r\n",
    "facts = f\"\"\"{'-'*60}\r\n",
    "Name of the planet: {planet}\r\n",
    "Gravity in {name}:  {gravity*100} m/2\r\n",
    "\"\"\"\r\n",
    "\r\n",
    "template = f\"\"\"{title.title()}\r\n",
    "{facts}\r\n",
    "\"\"\"\r\n",
    "print(template)\r\n",
    "\r\n",
    "new_template=\"\"\"\r\n",
    "Data of the gravity of: {name}\r\n",
    "---------------------------------\r\n",
    "Name of the planet: {planet}\r\n",
    "Gravity in {name}:{gravity} m/s2\r\n",
    "\"\"\"\r\n",
    "print(new_template.format(name=name, planet=planet, gravity=gravity*1000))"
   ],
   "outputs": [
    {
     "output_type": "stream",
     "name": "stdout",
     "text": [
      "Data Of The Gravity Of Martes\n",
      "------------------------------------------------------------\n",
      "Name of the planet: Ganímides\n",
      "Gravity in Martes:  0.14300000000000002 m/2\n",
      "\n",
      "\n",
      "\n",
      "Data of the gravity of: Martes\n",
      "---------------------------------\n",
      "Name of the planet: Ganímides\n",
      "Gravity in Martes:1.4300000000000002 m/s2\n",
      "\n"
     ]
    }
   ],
   "metadata": {}
  }
 ],
 "metadata": {
  "orig_nbformat": 4,
  "language_info": {
   "name": "python",
   "version": "3.10.2",
   "mimetype": "text/x-python",
   "codemirror_mode": {
    "name": "ipython",
    "version": 3
   },
   "pygments_lexer": "ipython3",
   "nbconvert_exporter": "python",
   "file_extension": ".py"
  },
  "kernelspec": {
   "name": "python3",
   "display_name": "Python 3.10.2 64-bit"
  },
  "interpreter": {
   "hash": "03a3f38e416e929fa1f0e2597b105946243a3f694587d796527adbe2f413bcd3"
  }
 },
 "nbformat": 4,
 "nbformat_minor": 2
}