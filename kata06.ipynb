{
 "cells": [
  {
   "cell_type": "markdown",
   "source": [
    "# Ejercicio 1"
   ],
   "metadata": {}
  },
  {
   "cell_type": "code",
   "execution_count": 8,
   "source": [
    "planets = ['Mercury', 'Venus', 'Earth', 'Mars', 'Jupiter', 'Saturn', 'Uranus', 'Neptune']\r\n",
    "print(len(planets))\r\n",
    "planets.append('Pluto')\r\n",
    "print(str(len(planets)) + \" \" +  planets[8])"
   ],
   "outputs": [
    {
     "output_type": "stream",
     "name": "stdout",
     "text": [
      "8\n",
      "9 Pluto\n"
     ]
    }
   ],
   "metadata": {}
  },
  {
   "cell_type": "markdown",
   "source": [
    "# Ejercicio 2"
   ],
   "metadata": {}
  },
  {
   "cell_type": "code",
   "execution_count": 12,
   "source": [
    "planets = ['Mercury', 'Venus', 'Earth', 'Mars', 'Jupiter', 'Saturn', 'Uranus', 'Neptune']\r\n",
    "planet=input(\"Insert the name of a planet (First letter is Uppercase)\")\r\n",
    "\r\n",
    "index= planets.index(planet)\r\n",
    "\r\n",
    "print('The following planets are closer than ' + planet)\r\n",
    "print(planets[0:index])\r\n",
    "\r\n",
    "print('The following planets are farest than ' + planet)\r\n",
    "print(planets[index+1:])"
   ],
   "outputs": [
    {
     "output_type": "stream",
     "name": "stdout",
     "text": [
      "The following planets are closer than Earth\n",
      "['Mercury', 'Venus']\n",
      "The following planets are farest than Earth\n",
      "['Mars', 'Jupiter', 'Saturn', 'Uranus', 'Neptune']\n"
     ]
    }
   ],
   "metadata": {}
  }
 ],
 "metadata": {
  "orig_nbformat": 4,
  "language_info": {
   "name": "python",
   "version": "3.10.2",
   "mimetype": "text/x-python",
   "codemirror_mode": {
    "name": "ipython",
    "version": 3
   },
   "pygments_lexer": "ipython3",
   "nbconvert_exporter": "python",
   "file_extension": ".py"
  },
  "kernelspec": {
   "name": "python3",
   "display_name": "Python 3.10.2 64-bit"
  },
  "interpreter": {
   "hash": "03a3f38e416e929fa1f0e2597b105946243a3f694587d796527adbe2f413bcd3"
  }
 },
 "nbformat": 4,
 "nbformat_minor": 2
}