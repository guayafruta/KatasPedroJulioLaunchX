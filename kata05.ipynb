{
 "cells": [
  {
   "cell_type": "markdown",
   "source": [
    "# Ejercicio 1"
   ],
   "metadata": {}
  },
  {
   "cell_type": "code",
   "execution_count": 9,
   "source": [
    "planetA = 149597870\r\n",
    "planetB= 778547200\r\n",
    "\r\n",
    "distance=planetB-planetA\r\n",
    "template=\"\"\"\r\n",
    "The distance between the planets is: {Km} kilometers, or {Mi} milles.\r\n",
    "\"\"\"\r\n",
    "print(template.format(Km=distance, Mi=distance*0.621))"
   ],
   "outputs": [
    {
     "output_type": "stream",
     "name": "stdout",
     "text": [
      "\n",
      "The distance between the planets is: 628949330 kilometers, or 390577533.93 milles.\n",
      "\n"
     ]
    }
   ],
   "metadata": {}
  },
  {
   "cell_type": "markdown",
   "source": [
    "# Ejercicio 2"
   ],
   "metadata": {}
  },
  {
   "cell_type": "code",
   "execution_count": 11,
   "source": [
    "planetA = input(\"1. Please enter the relative distance of the sun to the FIRST planet.\")\r\n",
    "planetB= input(\"2. Please enter the relative distance of the sun to the SECOND planet.\")\r\n",
    "\r\n",
    "planetA= int(planetA)\r\n",
    "planetB= int(planetB)\r\n",
    "\r\n",
    "distance= abs(planetA - planetB)\r\n",
    "\r\n",
    "template=\"\"\"\r\n",
    "The distance between the planets is: {Km} kilometers, or {Mi} milles.\r\n",
    "\"\"\"\r\n",
    "print(template.format(Km=distance, Mi=distance*0.621))"
   ],
   "outputs": [
    {
     "output_type": "stream",
     "name": "stdout",
     "text": [
      "\n",
      "The distance between the planets is: 8 kilometers, or 4.968 milles.\n",
      "\n"
     ]
    }
   ],
   "metadata": {}
  }
 ],
 "metadata": {
  "orig_nbformat": 4,
  "language_info": {
   "name": "python",
   "version": "3.10.2",
   "mimetype": "text/x-python",
   "codemirror_mode": {
    "name": "ipython",
    "version": 3
   },
   "pygments_lexer": "ipython3",
   "nbconvert_exporter": "python",
   "file_extension": ".py"
  },
  "kernelspec": {
   "name": "python3",
   "display_name": "Python 3.10.2 64-bit"
  },
  "interpreter": {
   "hash": "03a3f38e416e929fa1f0e2597b105946243a3f694587d796527adbe2f413bcd3"
  }
 },
 "nbformat": 4,
 "nbformat_minor": 2
}