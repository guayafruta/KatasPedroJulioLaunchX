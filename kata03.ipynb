{
 "cells": [
  {
   "cell_type": "markdown",
   "source": [
    "# Ejercicio 1:\r\n",
    "Construir un convertidor de unidades\r\n",
    "\r\n",
    "Para este ejercicio, escribirás una lógica condicional que imprima una advertencia si un asteroide se acerca a la Tierra demasiado rápido. La velocidad del asteroide varía dependiendo de lo cerca que esté del sol, y cualquier velocidad superior a 25 kilómetros por segundo (km/s) merece una advertencia.\r\n",
    "\r\n",
    "Un asteroide se acerca, y viaja a una velocidad de 49 km/s."
   ],
   "metadata": {}
  },
  {
   "cell_type": "code",
   "execution_count": 13,
   "source": [
    "velocity = 49\r\n",
    "\r\n",
    "if velocity > 25:\r\n",
    "    print(\"¡Advertencia! El asteroide esta viajando a una velocidad peligrosa de \" + str(velocity) + \" km/s.\")\r\n",
    "else:\r\n",
    "    print(\"El asteroide se encuentra a una velocidad aceptable.\")"
   ],
   "outputs": [
    {
     "output_type": "stream",
     "name": "stdout",
     "text": [
      "¡Advertencia! El asteroide esta viajando a una velocidad peligrosa de 49 km/s.\n"
     ]
    }
   ],
   "metadata": {}
  },
  {
   "cell_type": "markdown",
   "source": [
    "# Ejercicio 2:\r\n",
    "Si un asteroide entra en la atmósfera de la Tierra a una velocidad mayor o igual a 20 km/s, a veces produce un rayo de luz que se puede ver desde la Tierra. Escribe la lógica condicional que usa declaraciones if, else, y elif para alertar a las personas de todo el mundo que deben buscar un asteroide en el cielo. ¡Hay uno que se dirige a la tierra ahora a una velocidad de 19 km/s!"
   ],
   "metadata": {}
  },
  {
   "cell_type": "code",
   "execution_count": 14,
   "source": [
    "velocity = 19\r\n",
    "\r\n",
    "if velocity >= 20:\r\n",
    "    print(\"¡Voltea a ver la luz del asteroide!\")\r\n",
    "else: \r\n",
    "    print(\"No hay ningún asteroide que ver.\")"
   ],
   "outputs": [
    {
     "output_type": "stream",
     "name": "stdout",
     "text": [
      "No hay ningún asteroide que ver.\n"
     ]
    }
   ],
   "metadata": {}
  },
  {
   "cell_type": "markdown",
   "source": [
    "# Ejercicio 3\r\n",
    "En este ejercicio, aprenderás información más matizada sobre cuándo los asteroides representan un peligro para la Tierra, y utilizarás esa información para mejorar nuestro sistema de advertencia. Aquí está la nueva información que necesitas saber:\r\n",
    "\r\n",
    "*Los asteroides de menos de 25 metros en su dimensión más grande probablemente se quemarán a medida que entren en la atmósfera de la Tierra.\r\n",
    "\r\n",
    "    Si una pieza de un asteroide que es más grande que 25 metros pero más pequeña que 1000 metros golpeara la Tierra, causaría mucho daño.\r\n",
    "\r\n",
    "También discutimos en el ejercicio anterior que:\r\n",
    "\r\n",
    "    La velocidad del asteroide varía en función de lo cerca que esté del sol, y cualquier velocidad superior a 25 kilómetros por segundo (km/s) merece una advertencia.\r\n",
    "    Si un asteroide entra en la atmósfera de la Tierra a una velocidad mayor o igual a 20 km/s, a veces produce un rayo de luz que se puede ver desde la Tierra.\r\n",
    "\r\n",
    "Usando toda esta información, escribe un programa que emita la advertencia o información correcta a la gente de la Tierra, según la velocidad y el tamaño de un asteroide. Utiliza instrucciones if, else, y elif, así como los operadores and y or."
   ],
   "metadata": {}
  },
  {
   "cell_type": "code",
   "execution_count": 16,
   "source": [
    "size = 25\r\n",
    "velocity = 20\r\n",
    "\r\n",
    "if size > 25 or velocity >25:\r\n",
    "    print(\"¡Advertencia! El asteroide representa un peligro para el planeta.\");\r\n",
    "elif velocity >= 20:\r\n",
    "    print(\"¡Voltea a ver la luz del asteroide!\")\r\n",
    "else:\r\n",
    "    print(\"Ningun peligro, no hay nada que ver aquí.\")\r\n"
   ],
   "outputs": [
    {
     "output_type": "stream",
     "name": "stdout",
     "text": [
      "¡Voltea a ver la luz del asteroide!\n"
     ]
    }
   ],
   "metadata": {}
  }
 ],
 "metadata": {
  "orig_nbformat": 4,
  "language_info": {
   "name": "python",
   "version": "3.10.2",
   "mimetype": "text/x-python",
   "codemirror_mode": {
    "name": "ipython",
    "version": 3
   },
   "pygments_lexer": "ipython3",
   "nbconvert_exporter": "python",
   "file_extension": ".py"
  },
  "kernelspec": {
   "name": "python3",
   "display_name": "Python 3.10.2 64-bit"
  },
  "interpreter": {
   "hash": "03a3f38e416e929fa1f0e2597b105946243a3f694587d796527adbe2f413bcd3"
  }
 },
 "nbformat": 4,
 "nbformat_minor": 2
}