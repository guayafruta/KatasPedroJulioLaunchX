{
 "cells": [
  {
   "cell_type": "markdown",
   "source": [
    "# Crear un entorno virtual\r\n",
    "\r\n",
    "Este lo realicé desde la consola en mi directorio de archivos"
   ],
   "metadata": {}
  }
 ],
 "metadata": {
  "orig_nbformat": 4,
  "language_info": {
   "name": "python",
   "version": "3.10.2",
   "mimetype": "text/x-python",
   "codemirror_mode": {
    "name": "ipython",
    "version": 3
   },
   "pygments_lexer": "ipython3",
   "nbconvert_exporter": "python",
   "file_extension": ".py"
  },
  "kernelspec": {
   "name": "python3",
   "display_name": "Python 3.10.2 64-bit"
  },
  "interpreter": {
   "hash": "03a3f38e416e929fa1f0e2597b105946243a3f694587d796527adbe2f413bcd3"
  }
 },
 "nbformat": 4,
 "nbformat_minor": 2
}